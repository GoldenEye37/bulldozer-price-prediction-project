{
 "cells": [
  {
   "cell_type": "markdown",
   "id": "38ab5c73-63c2-496c-a2e4-2c89807e0d7a",
   "metadata": {},
   "source": [
    "# Predicting the sale price of Bulldozers using machine learning\n",
    "\n",
    "In this notebook, we're going to go through an example machine learning project with the goal of predicting the sale price of bulldozers.\n",
    "\n",
    "## 1. Problem Definition\n",
    "\n",
    "> How well can we predict the future sale price of bulldozer, given its characteristics and previous examples of how much similar bulldzozers have been sold for?\n",
    "\n",
    "## 2. Data\n",
    "\n",
    "The data is downloaded from kaggle Bluebook for Bulldozers competition.\n",
    "\n",
    "There are 3 main datasets:\n",
    "* Train.csv\n",
    "* Valid.csv\n",
    "* Test.csv\n",
    "  \n",
    "## 3. Evaluation\n",
    "\n",
    "The evaluation metric for this compettion is the RSMLE (root mean squared log error) between the actual and predicted  auction prices.\n",
    "\n",
    "**Note:** The goal of most regression evaluation metrics is to minimize the error. E.g., our goal for this project will be to build a machine learning model which minimizes RMSLE.\n",
    "\n",
    "## 4. Features\n",
    "\n",
    "Kaggle provided a data dictionary detailing all of the featu"
   ]
  },
  {
   "cell_type": "code",
   "execution_count": 3,
   "id": "90a6574e-c323-4094-8634-105d75a08e49",
   "metadata": {},
   "outputs": [],
   "source": [
    "import pandas as pd\n",
    "import matplotlib.pyplot as plt\n",
    "import numpy as np\n",
    "import sklearn "
   ]
  },
  {
   "cell_type": "code",
   "execution_count": null,
   "id": "35776610-1acf-4486-b9fc-61590dca5f23",
   "metadata": {},
   "outputs": [],
   "source": []
  }
 ],
 "metadata": {
  "kernelspec": {
   "display_name": "Python 3 (ipykernel)",
   "language": "python",
   "name": "python3"
  },
  "language_info": {
   "codemirror_mode": {
    "name": "ipython",
    "version": 3
   },
   "file_extension": ".py",
   "mimetype": "text/x-python",
   "name": "python",
   "nbconvert_exporter": "python",
   "pygments_lexer": "ipython3",
   "version": "3.11.5"
  }
 },
 "nbformat": 4,
 "nbformat_minor": 5
}
